{
 "cells": [
  {
   "cell_type": "code",
   "execution_count": null,
   "id": "60829246",
   "metadata": {},
   "outputs": [],
   "source": [
    "import matplotlib.pyplot as plt\n",
    "from matplotlib.pyplot import cm\n",
    "import os\n",
    "import pandas as pd\n",
    "import json"
   ]
  },
  {
   "cell_type": "code",
   "execution_count": null,
   "id": "dd8de425",
   "metadata": {},
   "outputs": [],
   "source": [
    "DIR_NAME = 'metatest_outputs'\n",
    "files = sorted(os.listdir(DIR_NAME))"
   ]
  },
  {
   "cell_type": "code",
   "execution_count": null,
   "id": "7fcce0b2",
   "metadata": {},
   "outputs": [],
   "source": [
    "#files"
   ]
  },
  {
   "cell_type": "code",
   "execution_count": null,
   "id": "442786c2",
   "metadata": {},
   "outputs": [],
   "source": [
    "experiments = {}\n",
    "for f in files:\n",
    "    exp_nr, testset = f.split('_')[0], f.split('_')[1].split('.')[0]\n",
    "    if experiments.get(exp_nr, False):\n",
    "        experiments[exp_nr].append((testset, f))\n",
    "    else:\n",
    "        experiments[exp_nr] = [(testset, f)]"
   ]
  },
  {
   "cell_type": "code",
   "execution_count": null,
   "id": "e4af2b59",
   "metadata": {},
   "outputs": [],
   "source": [
    "#experiments"
   ]
  },
  {
   "cell_type": "code",
   "execution_count": null,
   "id": "79b111cd",
   "metadata": {},
   "outputs": [],
   "source": [
    "meta_train_filenames = {\n",
    "    '1': 'boolq_cb_csqa_imdb_mrpc-mnli_qqp_sst_wgrande',\n",
    "    '3': 'cqa_csqa_hswag_siqa_wgrande-argument_imdb_mnli_mrpc_scitail',\n",
    "    '4': 'cb_mnli_rte_scitail_sick-argument_imdb_mrpc_qqp',\n",
    "    '5': 'boolq_mnli_qqp_sst_wgrande-argument_imdb_mrpc_scitail',\n",
    "    '6': 'argument_boolq_cb_cqa_csqa_hswag_imdb_mnli_mrpc_qqp_rte_scitail_sick_siqa_sst_wgrande-argument_imdb_mrpc_scitail',\n",
    "    '7': 'argument_boolq_cb_cqa_csqa_hswag_imdb_mnli_mrpc_qqp_rte_scitail_sick_siqa_sst_wgrande-argument_imdb_mnli_mrpc_scitail',\n",
    "    '8': 'argument_boolq_cb_cqa_csqa_hswag_imdb_mnli_mrpc_qqp_rte_scitail_sick_siqa_sst_wgrande-argument_imdb_mrpc_qqp',\n",
    "    '9': 'argument_boolq_cb_cqa_csqa_hswag_imdb_mnli_mrpc_qqp_rte_scitail_sick_siqa_sst_wgrande-mnli_qqp_sst_wgrande',\n",
    "    'A': 'mnli_scitail-rte_sick',\n",
    "    'B': 'mnli_sick-cb_rte',\n",
    "    'C': 'cb_rte-mnli_scitail'\n",
    "}"
   ]
  },
  {
   "cell_type": "code",
   "execution_count": null,
   "id": "990d47f4",
   "metadata": {},
   "outputs": [],
   "source": [
    "exp_setup = {}\n",
    "for e, f in meta_train_filenames.items():\n",
    "    exp_setup[e] = {\n",
    "        \"adapters\": f.split('-')[0].split('_'),\n",
    "        \"metatrain\": f.split('-')[1].split('_')\n",
    "    }\n",
    "#exp_setup"
   ]
  },
  {
   "cell_type": "code",
   "execution_count": null,
   "id": "4e8ae635",
   "metadata": {},
   "outputs": [],
   "source": [
    "with open(\"results/exp_setup.json\", \"w\") as f:\n",
    "    f.write(json.dumps(exp_setup))"
   ]
  },
  {
   "cell_type": "code",
   "execution_count": null,
   "id": "5757d691",
   "metadata": {},
   "outputs": [],
   "source": [
    "records = []\n",
    "for exp_nr, exp_list in experiments.items():\n",
    "    for dataset, filename in exp_list:\n",
    "        with open(DIR_NAME + '/' + filename, \"r\") as f:\n",
    "            r = json.load(f)\n",
    "        for k, v in r.items():\n",
    "            records.append({\n",
    "                \"exp_nr\": exp_nr, \n",
    "                \"exp_id\": exp_nr[0],\n",
    "                \"exp_variant\": 'a' if len(exp_nr) == 1 else exp_nr[1],\n",
    "                \"metatest\": dataset, \n",
    "                \"K\": k, \n",
    "                \"avg\": v[0], \n",
    "                \"std\": v[1]\n",
    "            })"
   ]
  },
  {
   "cell_type": "code",
   "execution_count": null,
   "id": "48e5dc82",
   "metadata": {},
   "outputs": [],
   "source": [
    "results = pd.DataFrame.from_records(records)\n",
    "results"
   ]
  },
  {
   "cell_type": "code",
   "execution_count": null,
   "id": "4d4be2c8",
   "metadata": {},
   "outputs": [],
   "source": [
    "results.to_csv('results/metatest_results.csv', index=False)"
   ]
  },
  {
   "cell_type": "code",
   "execution_count": null,
   "id": "2d36a329",
   "metadata": {},
   "outputs": [],
   "source": [
    "results_dict = {}\n",
    "for exp_nr, exp_list in experiments.items():\n",
    "    exp_id = exp_nr[0]\n",
    "    exp_variant = 'a' if len(exp_nr) == 1 else exp_nr[1]\n",
    "    for dataset, filename in exp_list:\n",
    "        with open(DIR_NAME + '/' + filename, \"r\") as f:\n",
    "            r = json.load(f)\n",
    "        if results_dict.get((exp_id, dataset), False):\n",
    "            results_dict[(exp_id, dataset)][exp_variant] = r\n",
    "        else:\n",
    "            results_dict[(exp_id, dataset)] = {exp_variant: r}\n",
    "#results_dict"
   ]
  },
  {
   "cell_type": "code",
   "execution_count": null,
   "id": "7123b49f",
   "metadata": {},
   "outputs": [],
   "source": [
    "datasets = results['metatest'].unique()\n",
    "exp_ids = results['exp_id'].unique()"
   ]
  },
  {
   "cell_type": "code",
   "execution_count": null,
   "id": "dac3db46",
   "metadata": {},
   "outputs": [],
   "source": [
    "# Print all results in somewhat formatted table\n",
    "print(\"RESULTS BY EXPERIMENT AND DATASET\")\n",
    "print('=' * 113)\n",
    "print(\" \"*14, \"{:33}{:33}{:33}\".format(\"Hyperparam set A\", \"Hyperparam set B\", \"Hyperparam set C\"))\n",
    "print(\"Exp Dataset   \",\"{:10}{:10}{:10}   \".format('K=2', 'K=4', 'K=8') * 3)\n",
    "\n",
    "print('=' * 113)\n",
    "for exp_id in exp_ids:\n",
    "    id_printed = False\n",
    "    for dataset in datasets:\n",
    "       # print(exp_id, dataset)\n",
    "        r = results_dict.get((exp_id, dataset), None)\n",
    "        if r != None:\n",
    "            print(\"{:4}{:8} | \".format(exp_id if not id_printed else '', dataset), end='')\n",
    "            id_printed = True\n",
    "            for v in ['a', 'b', 'c']:\n",
    "                values = r.get(v, None)\n",
    "                if values == None:\n",
    "                    print(\" \" * 30, \"| \", end='')\n",
    "                else:\n",
    "                    for k in ['2', '4', '8']:\n",
    "                        avg, std = values.get(k, (-1, -1))\n",
    "                        if avg>0:\n",
    "                            print(\"{:1.2f}±{:1.2f} \".format(avg, std), end='')\n",
    "                        else:\n",
    "                            print(\"    -     \", end='')\n",
    "                    print(\" | \", end='')\n",
    "            print()\n",
    "    print('-' * 113)"
   ]
  },
  {
   "cell_type": "code",
   "execution_count": null,
   "id": "e3d83b69",
   "metadata": {},
   "outputs": [],
   "source": [
    "# Print all results in somewhat formatted table\n",
    "print(\"RESULTS BY DATASET AND EXPERIMENT\")\n",
    "print('=' * 113)\n",
    "print(\" \"*14, \"{:33}{:33}{:33}\".format(\"Hyperparam set A\", \"Hyperparam set B\", \"Hyperparam set C\"))\n",
    "print(\"Dataset  Exp  \",\"{:10}{:10}{:10}   \".format('K=2', 'K=4', 'K=8') * 3)\n",
    "\n",
    "print('=' * 113)\n",
    "for dataset in datasets:\n",
    "    id_printed = False\n",
    "    for exp_id in exp_ids:\n",
    "        r = results_dict.get((exp_id, dataset), None)\n",
    "        if r != None:\n",
    "            print(\"{:9}{:3} | \".format(dataset if not id_printed else '', exp_id), end='')\n",
    "            id_printed = True\n",
    "            for v in ['a', 'b', 'c']:\n",
    "                values = r.get(v, None)\n",
    "                if values == None:\n",
    "                    print(\" \" * 30, \"| \", end='')\n",
    "                else:\n",
    "                    for k in ['2', '4', '8']:\n",
    "                        avg, std = values.get(k, (-1, -1))\n",
    "                        if avg>0:\n",
    "                            print(\"{:1.2f}±{:1.2f} \".format(avg, std), end='')\n",
    "                        else:\n",
    "                            print(\"    -     \", end='')\n",
    "                    print(\" | \", end='')\n",
    "            print()\n",
    "    print('-' * 113)"
   ]
  },
  {
   "cell_type": "code",
   "execution_count": null,
   "id": "389fba49",
   "metadata": {},
   "outputs": [],
   "source": [
    "marker=['o', 's', '*', '+', 'D', 'v', '<', '^', '>', '.', 'p', 'P']\n",
    "marker_map = dict(zip(exp_ids, marker))\n",
    "\n",
    "for dataset in datasets:\n",
    "        \n",
    "    setup = exp_setup[exp_id]\n",
    "    exp_results = results.loc[results['metatest'] ==  dataset]    \n",
    "    fig, ax = plt.subplots(1,3, sharex=True, sharey=True, figsize=(12,4))\n",
    "    fig.suptitle('K-shot performance on task: ' + dataset, fontsize=14, fontweight='bold')\n",
    "       \n",
    "    for i, v in enumerate(['a', 'b', 'c']):\n",
    "        \n",
    "        for exp_id in exp_ids:\n",
    "\n",
    "            task_df = exp_results.loc[(exp_results['exp_variant'] ==  v) & (exp_results['exp_id'] == exp_id)]\n",
    "            \n",
    "            accs = task_df['avg'].values\n",
    "            stds = task_df['std'].values\n",
    "            ks = task_df['K'].values\n",
    "            \n",
    "            ax[i].plot(ks, accs,  marker=marker_map[exp_id], markeredgecolor='k', markersize=8, label='exp '+exp_id)\n",
    "            #ax[i].fill_between(ks, [m-s for m,s in zip(accs, stds)], [m+s for m,s in zip(accs, stds)], alpha=0.2, color='red')\n",
    "            ax[i].set_title(v.upper(), y=1.0, pad=-14)\n",
    "            ax[i].set_xlabel('K')\n",
    "        \n",
    "    plt.xticks(['2', '4', '8'])   \n",
    "    #plt.xlabel('k')\n",
    "    plt.legend(exp_ids)\n",
    "    ax[0].set_ylabel('Mean accuracy')\n",
    "    plt.ylim(0.30, 0.90)\n",
    "    ax[2].legend(loc='center left', bbox_to_anchor=(1, 0.5))\n",
    "    plt.savefig('results/' + dataset + '.png', facecolor='white')\n",
    "    plt.show()\n",
    "    \n"
   ]
  },
  {
   "cell_type": "code",
   "execution_count": null,
   "id": "430df805",
   "metadata": {},
   "outputs": [],
   "source": []
  }
 ],
 "metadata": {
  "kernelspec": {
   "display_name": "Python 3 (ipykernel)",
   "language": "python",
   "name": "python3"
  },
  "language_info": {
   "codemirror_mode": {
    "name": "ipython",
    "version": 3
   },
   "file_extension": ".py",
   "mimetype": "text/x-python",
   "name": "python",
   "nbconvert_exporter": "python",
   "pygments_lexer": "ipython3",
   "version": "3.9.7"
  }
 },
 "nbformat": 4,
 "nbformat_minor": 5
}
